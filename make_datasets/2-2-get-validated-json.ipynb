{
 "cells": [
  {
   "cell_type": "code",
   "execution_count": 1,
   "id": "6b401063",
   "metadata": {},
   "outputs": [
    {
     "name": "stdout",
     "output_type": "stream",
     "text": [
      "3.0.5\n"
     ]
    }
   ],
   "source": [
    "import pythainlp\n",
    "print(pythainlp.__version__ )"
   ]
  },
  {
   "cell_type": "code",
   "execution_count": 2,
   "id": "56eacb67",
   "metadata": {},
   "outputs": [],
   "source": [
    "from pythainlp.tokenize import word_tokenize"
   ]
  },
  {
   "cell_type": "code",
   "execution_count": 3,
   "id": "1c6a84fc",
   "metadata": {},
   "outputs": [],
   "source": [
    "# --- Building Manifest Files --- #\n",
    "import json\n",
    "import librosa\n",
    "import IPython.display as ipd\n",
    "import numpy as np\n",
    "import os\n",
    "import pandas as pd\n",
    "import re\n",
    "import copy"
   ]
  },
  {
   "cell_type": "code",
   "execution_count": 4,
   "id": "dd0432dd",
   "metadata": {},
   "outputs": [],
   "source": [
    "cv_path = os.path.join(\".\",\"cv-corpus-8.0-2022-01-19\",\"th\")"
   ]
  },
  {
   "cell_type": "code",
   "execution_count": 5,
   "id": "71909dcc",
   "metadata": {},
   "outputs": [],
   "source": [
    "wav_path = os.path.join(cv_path,\"wavs\")"
   ]
  },
  {
   "cell_type": "code",
   "execution_count": 6,
   "id": "fc1b712e",
   "metadata": {},
   "outputs": [],
   "source": [
    "all_path = os.path.join(cv_path,\"validated_clean.tsv\")\n",
    "all_df = pd.read_csv(all_path,sep=\"\\t\")"
   ]
  },
  {
   "cell_type": "code",
   "execution_count": 7,
   "id": "d878cf77",
   "metadata": {},
   "outputs": [],
   "source": [
    "clean_whitespace= re.compile(r'\\s\\s+')\n",
    "def build_manifest(df, manifest_path, wav_path):\n",
    "    with open(manifest_path, 'w') as fout:\n",
    "        p=0\n",
    "        for line in list(zip(list(df[\"path\"]),list(df[\"sentence_fix\"]))):\n",
    "            file, transcript = line\n",
    "            file2 = copy.copy(file)\n",
    "            try:\n",
    "                transcript = transcript#clean_whitespace.sub(' ',(' '.join(word_tokenize(transcript.strip()))).replace('\\t',' '))\n",
    "            except:\n",
    "                print(line)\n",
    "                print(df[\"sentence\"][p])\n",
    "            file = file.replace(\".mp3\",'.wav')\n",
    "            audio_path = os.path.join(\n",
    "                wav_path, file\n",
    "            )\n",
    "            duration = librosa.core.get_duration(filename=audio_path)\n",
    "\n",
    "            # Write the metadata to the manifest\n",
    "            metadata = {\n",
    "                \"audio_filepath\": file2,\n",
    "                \"duration\": duration,\n",
    "                \"text\": transcript\n",
    "            }\n",
    "            json.dump(metadata, fout)\n",
    "            fout.write('\\n')\n",
    "            p+=1"
   ]
  },
  {
   "cell_type": "code",
   "execution_count": 8,
   "id": "d4948156",
   "metadata": {},
   "outputs": [],
   "source": [
    "def find_max(df):\n",
    "    m=0.0\n",
    "    for line in list(zip(list(df[\"path\"]),list(df[\"sentence_fix\"]))):\n",
    "        file, transcript = line\n",
    "        file = file.replace(\".mp3\",'.wav')\n",
    "        audio_path = os.path.join(\n",
    "            wav_path, file\n",
    "        )\n",
    "        duration = librosa.core.get_duration(filename=audio_path)\n",
    "        if duration > m:\n",
    "            m = duration\n",
    "    return m"
   ]
  },
  {
   "cell_type": "code",
   "execution_count": 9,
   "id": "251c0380",
   "metadata": {},
   "outputs": [],
   "source": [
    "build_manifest(all_df,\"cv-8.0-validated.json\",wav_path)"
   ]
  },
  {
   "cell_type": "code",
   "execution_count": 10,
   "id": "93bdeedd",
   "metadata": {},
   "outputs": [],
   "source": [
    "# find_max(all_df)"
   ]
  },
  {
   "cell_type": "code",
   "execution_count": null,
   "id": "4fc3d41a",
   "metadata": {},
   "outputs": [],
   "source": []
  },
  {
   "cell_type": "code",
   "execution_count": null,
   "id": "c9f3a0cd",
   "metadata": {},
   "outputs": [],
   "source": []
  }
 ],
 "metadata": {
  "kernelspec": {
   "display_name": "Python 3 (ipykernel)",
   "language": "python",
   "name": "python3"
  },
  "language_info": {
   "codemirror_mode": {
    "name": "ipython",
    "version": 3
   },
   "file_extension": ".py",
   "mimetype": "text/x-python",
   "name": "python",
   "nbconvert_exporter": "python",
   "pygments_lexer": "ipython3",
   "version": "3.8.12"
  }
 },
 "nbformat": 4,
 "nbformat_minor": 5
}
