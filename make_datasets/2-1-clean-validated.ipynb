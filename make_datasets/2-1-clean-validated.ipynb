{
 "cells": [
  {
   "cell_type": "code",
   "execution_count": 1,
   "id": "cdfea8cd",
   "metadata": {},
   "outputs": [],
   "source": [
    "import os\n",
    "import pandas as pd\n",
    "import sqlite3\n",
    "import re\n",
    "from pythainlp.util import normalize"
   ]
  },
  {
   "cell_type": "code",
   "execution_count": 2,
   "id": "09b7d443",
   "metadata": {},
   "outputs": [],
   "source": [
    "db_path = os.path.join(\".\",\"db-lastest.db\")"
   ]
  },
  {
   "cell_type": "code",
   "execution_count": 6,
   "id": "e5dab29c",
   "metadata": {},
   "outputs": [],
   "source": [
    "cv_path = os.path.join(\".\",\"cv-corpus-9.0-2022-04-27\",\"th\") # config your path commonvoice"
   ]
  },
  {
   "cell_type": "code",
   "execution_count": 7,
   "id": "64cd526b",
   "metadata": {},
   "outputs": [],
   "source": [
    "validated_path = os.path.join(cv_path,\"validated.tsv\")"
   ]
  },
  {
   "cell_type": "code",
   "execution_count": 8,
   "id": "4b3ea0d0",
   "metadata": {},
   "outputs": [
    {
     "name": "stderr",
     "output_type": "stream",
     "text": [
      "/opt/conda/lib/python3.8/site-packages/IPython/core/interactiveshell.py:3444: DtypeWarning: Columns (7) have mixed types.Specify dtype option on import or set low_memory=False.\n",
      "  exec(code_obj, self.user_global_ns, self.user_ns)\n"
     ]
    }
   ],
   "source": [
    "df = pd.read_csv(validated_path,sep=\"\\t\")"
   ]
  },
  {
   "cell_type": "code",
   "execution_count": 9,
   "id": "23817736",
   "metadata": {},
   "outputs": [
    {
     "data": {
      "text/plain": [
       "'common_voice_th_26565507.mp3'"
      ]
     },
     "execution_count": 9,
     "metadata": {},
     "output_type": "execute_result"
    }
   ],
   "source": [
    "df['path'][109682]"
   ]
  },
  {
   "cell_type": "code",
   "execution_count": 12,
   "id": "370e21b8",
   "metadata": {},
   "outputs": [],
   "source": [
    "!cp {os.path.join(cv_path,\"clips\",\"common_voice_th_26583620.mp3\")} common_voice_th_26583620.mp3"
   ]
  },
  {
   "cell_type": "code",
   "execution_count": 13,
   "id": "b6e755cd",
   "metadata": {},
   "outputs": [
    {
     "data": {
      "text/plain": [
       "'ใครเป็นผู้รับ'"
      ]
     },
     "execution_count": 13,
     "metadata": {},
     "output_type": "execute_result"
    }
   ],
   "source": [
    "df[\"sentence\"][0]"
   ]
  },
  {
   "cell_type": "code",
   "execution_count": 14,
   "id": "a17f2185",
   "metadata": {},
   "outputs": [],
   "source": [
    "conn = sqlite3.connect(db_path)"
   ]
  },
  {
   "cell_type": "code",
   "execution_count": 15,
   "id": "aa70056b",
   "metadata": {},
   "outputs": [],
   "source": [
    "cursor = conn.execute(\"SELECT sent,sent_fix  from cv\")"
   ]
  },
  {
   "cell_type": "code",
   "execution_count": 16,
   "id": "bd400855",
   "metadata": {},
   "outputs": [],
   "source": [
    "regex =re.compile(\"[^\\w\\u0E00-\\u0E7Fa-zA-Z]\")"
   ]
  },
  {
   "cell_type": "code",
   "execution_count": 17,
   "id": "c7658b94",
   "metadata": {},
   "outputs": [
    {
     "data": {
      "text/plain": [
       "' ss   ss แมว    กิน ปลา'"
      ]
     },
     "execution_count": 17,
     "metadata": {},
     "output_type": "execute_result"
    }
   ],
   "source": [
    "regex.sub(\" \",\"<ss></ss>แมว ]! กิน ปลา\")"
   ]
  },
  {
   "cell_type": "code",
   "execution_count": 18,
   "id": "cb9bd64f",
   "metadata": {},
   "outputs": [],
   "source": [
    "def call(s):\n",
    "    s=normalize(s.strip())\n",
    "    return re.sub(\"\\s\\s+\", \" \",regex.sub(\" \",s).replace(\"  \",\" \").replace(\"“\",\"\").replace(\" ”\",\"\").replace(\"”\",\"\")).strip()"
   ]
  },
  {
   "cell_type": "code",
   "execution_count": 19,
   "id": "175a6c82",
   "metadata": {},
   "outputs": [],
   "source": [
    "def call2(s):\n",
    "    s=normalize(s.strip())\n",
    "    return re.sub(\"\\s\\s+\", \" \",regex.sub(\" \",s).replace(\"  \",\" \").replace(\"“\",\"\").replace(\" ”\",\"\").replace(\"”\",\"\")).strip()"
   ]
  },
  {
   "cell_type": "code",
   "execution_count": 20,
   "id": "5d7ace21",
   "metadata": {},
   "outputs": [],
   "source": [
    "sent_fix= {}"
   ]
  },
  {
   "cell_type": "code",
   "execution_count": 21,
   "id": "5914d86c",
   "metadata": {},
   "outputs": [],
   "source": [
    "for row in cursor:\n",
    "    if row[1] != None:\n",
    "        sent_fix[call(row[0])] = call(row[1])\n",
    "    else:\n",
    "        sent_fix[call(row[0])] = call(row[0])"
   ]
  },
  {
   "cell_type": "code",
   "execution_count": 22,
   "id": "999c2cc2",
   "metadata": {},
   "outputs": [],
   "source": [
    "conn.close()"
   ]
  },
  {
   "cell_type": "code",
   "execution_count": 23,
   "id": "4f2ff0ac",
   "metadata": {},
   "outputs": [],
   "source": [
    "def check(i):\n",
    "    i = i.replace(\"ํา\",\"ำ\")\n",
    "    t = call2(i)\n",
    "    if t not in sent_fix.keys():\n",
    "        return None\n",
    "    m= sent_fix[t]\n",
    "    if re.search(r'[a-zA-Z]',m):\n",
    "        return None\n",
    "    return m"
   ]
  },
  {
   "cell_type": "code",
   "execution_count": 60,
   "id": "df9ed930",
   "metadata": {},
   "outputs": [],
   "source": [
    "replace_sent_df = pd.read_csv(os.path.join(\".\",\"list_file.tsv\"),sep=\"\\t\")\n",
    "file_replace={}\n",
    "for index, row in replace_sent_df.iterrows():\n",
    "    file_replace[row['file']]=row['sentence']"
   ]
  },
  {
   "cell_type": "code",
   "execution_count": 65,
   "id": "b4a44861",
   "metadata": {},
   "outputs": [],
   "source": [
    "def replace_sent(filename):\n",
    "    if filename in file_replace.keys():\n",
    "        return file_replace[filename]\n",
    "    else:\n",
    "        return None"
   ]
  },
  {
   "cell_type": "code",
   "execution_count": 66,
   "id": "20b99709",
   "metadata": {},
   "outputs": [],
   "source": [
    "def check_all_ok(i,filename):\n",
    "    c1 = check(i)\n",
    "    if c1==None and filename in file_replace.keys():\n",
    "        c1=replace_sent(filename)\n",
    "    return c1"
   ]
  },
  {
   "cell_type": "code",
   "execution_count": 67,
   "id": "fab09e15",
   "metadata": {},
   "outputs": [
    {
     "name": "stderr",
     "output_type": "stream",
     "text": [
      "/tmp/ipykernel_125682/987820437.py:1: TqdmExperimentalWarning: Using `tqdm.autonotebook.tqdm` in notebook mode. Use `tqdm.tqdm` instead to force console mode (e.g. in jupyter console)\n",
      "  from tqdm.autonotebook import tqdm\n"
     ]
    }
   ],
   "source": [
    "from tqdm.autonotebook import tqdm"
   ]
  },
  {
   "cell_type": "code",
   "execution_count": 68,
   "id": "312de0ca",
   "metadata": {},
   "outputs": [
    {
     "data": {
      "application/vnd.jupyter.widget-view+json": {
       "model_id": "2154454068984abface4fdac5085ce7a",
       "version_major": 2,
       "version_minor": 0
      },
      "text/plain": [
       "0it [00:00, ?it/s]"
      ]
     },
     "metadata": {},
     "output_type": "display_data"
    }
   ],
   "source": [
    "df[\"sentence_fix\"] = [check_all_ok(i,filename) for i,filename in tqdm(zip(list(df[\"sentence\"]),list(df['path'])))]"
   ]
  },
  {
   "cell_type": "code",
   "execution_count": 59,
   "id": "323c0f73",
   "metadata": {},
   "outputs": [
    {
     "data": {
      "text/html": [
       "\n",
       "                <audio  controls=\"controls\" >\n",
       "                    <source src=\"data:audio/mpeg;base64,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\" type=\"audio/mpeg\" />\n",
       "                    Your browser does not support the audio element.\n",
       "                </audio>\n",
       "              "
      ],
      "text/plain": [
       "<IPython.lib.display.Audio object>"
      ]
     },
     "execution_count": 59,
     "metadata": {},
     "output_type": "execute_result"
    }
   ],
   "source": [
    "# import IPython\n",
    "# IPython.display.Audio(os.path.join(cv_path,\"clips\",\"common_voice_th_26177956.mp3\"))"
   ]
  },
  {
   "cell_type": "code",
   "execution_count": 75,
   "id": "01ef2fd2",
   "metadata": {},
   "outputs": [
    {
     "data": {
      "text/html": [
       "<div>\n",
       "<style scoped>\n",
       "    .dataframe tbody tr th:only-of-type {\n",
       "        vertical-align: middle;\n",
       "    }\n",
       "\n",
       "    .dataframe tbody tr th {\n",
       "        vertical-align: top;\n",
       "    }\n",
       "\n",
       "    .dataframe thead th {\n",
       "        text-align: right;\n",
       "    }\n",
       "</style>\n",
       "<table border=\"1\" class=\"dataframe\">\n",
       "  <thead>\n",
       "    <tr style=\"text-align: right;\">\n",
       "      <th></th>\n",
       "      <th>client_id</th>\n",
       "      <th>path</th>\n",
       "      <th>sentence</th>\n",
       "      <th>up_votes</th>\n",
       "      <th>down_votes</th>\n",
       "      <th>age</th>\n",
       "      <th>gender</th>\n",
       "      <th>accents</th>\n",
       "      <th>locale</th>\n",
       "      <th>segment</th>\n",
       "      <th>sentence_fix</th>\n",
       "    </tr>\n",
       "  </thead>\n",
       "  <tbody>\n",
       "    <tr>\n",
       "      <th>15414</th>\n",
       "      <td>3af01f147320b41b9e99dbc32c4297b3f651fdd2de2991...</td>\n",
       "      <td>common_voice_th_25668677.mp3</td>\n",
       "      <td>Mr Lincoln เป็นที่ปรึกษาของฉัน</td>\n",
       "      <td>2</td>\n",
       "      <td>0</td>\n",
       "      <td>NaN</td>\n",
       "      <td>NaN</td>\n",
       "      <td>NaN</td>\n",
       "      <td>th</td>\n",
       "      <td>NaN</td>\n",
       "      <td>None</td>\n",
       "    </tr>\n",
       "    <tr>\n",
       "      <th>66795</th>\n",
       "      <td>c5641e0b40dd2daee49df98ba9af1c5bee1e886d00e252...</td>\n",
       "      <td>common_voice_th_24685112.mp3</td>\n",
       "      <td>Mr Lincoln เป็นที่ปรึกษาของฉัน</td>\n",
       "      <td>2</td>\n",
       "      <td>1</td>\n",
       "      <td>NaN</td>\n",
       "      <td>NaN</td>\n",
       "      <td>NaN</td>\n",
       "      <td>th</td>\n",
       "      <td>NaN</td>\n",
       "      <td>None</td>\n",
       "    </tr>\n",
       "    <tr>\n",
       "      <th>69839</th>\n",
       "      <td>035df65951a3c51a8efcbdaa7184f1fbe15d00ab5eaa3b...</td>\n",
       "      <td>common_voice_th_25635358.mp3</td>\n",
       "      <td>Mr Lincoln เป็นที่ปรึกษาของฉัน</td>\n",
       "      <td>2</td>\n",
       "      <td>1</td>\n",
       "      <td>thirties</td>\n",
       "      <td>male</td>\n",
       "      <td>NaN</td>\n",
       "      <td>th</td>\n",
       "      <td>NaN</td>\n",
       "      <td>None</td>\n",
       "    </tr>\n",
       "  </tbody>\n",
       "</table>\n",
       "</div>"
      ],
      "text/plain": [
       "                                               client_id  \\\n",
       "15414  3af01f147320b41b9e99dbc32c4297b3f651fdd2de2991...   \n",
       "66795  c5641e0b40dd2daee49df98ba9af1c5bee1e886d00e252...   \n",
       "69839  035df65951a3c51a8efcbdaa7184f1fbe15d00ab5eaa3b...   \n",
       "\n",
       "                               path                        sentence  up_votes  \\\n",
       "15414  common_voice_th_25668677.mp3  Mr Lincoln เป็นที่ปรึกษาของฉัน         2   \n",
       "66795  common_voice_th_24685112.mp3  Mr Lincoln เป็นที่ปรึกษาของฉัน         2   \n",
       "69839  common_voice_th_25635358.mp3  Mr Lincoln เป็นที่ปรึกษาของฉัน         2   \n",
       "\n",
       "       down_votes       age gender accents locale segment sentence_fix  \n",
       "15414           0       NaN    NaN     NaN     th     NaN         None  \n",
       "66795           1       NaN    NaN     NaN     th     NaN         None  \n",
       "69839           1  thirties   male     NaN     th     NaN         None  "
      ]
     },
     "execution_count": 75,
     "metadata": {},
     "output_type": "execute_result"
    }
   ],
   "source": [
    "df[df['sentence_fix'].isna()]"
   ]
  },
  {
   "cell_type": "code",
   "execution_count": 76,
   "id": "cc9ced6a",
   "metadata": {},
   "outputs": [],
   "source": [
    "# j=0\n",
    "# k=0\n",
    "# for index, row in df.iterrows():\n",
    "#     i = row['sentence']\n",
    "#     if call2(i) not in sent_fix.keys():\n",
    "#         print(row['path'],row['sentence'])\n",
    "#         j+=1\n",
    "#     k+=1"
   ]
  },
  {
   "cell_type": "code",
   "execution_count": 70,
   "id": "d0c67fec",
   "metadata": {},
   "outputs": [
    {
     "data": {
      "text/plain": [
       "31"
      ]
     },
     "execution_count": 70,
     "metadata": {},
     "output_type": "execute_result"
    }
   ],
   "source": [
    "j"
   ]
  },
  {
   "cell_type": "code",
   "execution_count": 71,
   "id": "791682ee",
   "metadata": {},
   "outputs": [
    {
     "data": {
      "text/html": [
       "<div>\n",
       "<style scoped>\n",
       "    .dataframe tbody tr th:only-of-type {\n",
       "        vertical-align: middle;\n",
       "    }\n",
       "\n",
       "    .dataframe tbody tr th {\n",
       "        vertical-align: top;\n",
       "    }\n",
       "\n",
       "    .dataframe thead th {\n",
       "        text-align: right;\n",
       "    }\n",
       "</style>\n",
       "<table border=\"1\" class=\"dataframe\">\n",
       "  <thead>\n",
       "    <tr style=\"text-align: right;\">\n",
       "      <th></th>\n",
       "      <th>client_id</th>\n",
       "      <th>path</th>\n",
       "      <th>sentence</th>\n",
       "      <th>up_votes</th>\n",
       "      <th>down_votes</th>\n",
       "      <th>age</th>\n",
       "      <th>gender</th>\n",
       "      <th>accents</th>\n",
       "      <th>locale</th>\n",
       "      <th>segment</th>\n",
       "      <th>sentence_fix</th>\n",
       "    </tr>\n",
       "  </thead>\n",
       "  <tbody>\n",
       "    <tr>\n",
       "      <th>0</th>\n",
       "      <td>00086f5dc46f9038f13bbd829c4118fab3ac28688d5ee8...</td>\n",
       "      <td>common_voice_th_25695281.mp3</td>\n",
       "      <td>ใครเป็นผู้รับ</td>\n",
       "      <td>2</td>\n",
       "      <td>0</td>\n",
       "      <td>NaN</td>\n",
       "      <td>NaN</td>\n",
       "      <td>NaN</td>\n",
       "      <td>th</td>\n",
       "      <td>NaN</td>\n",
       "      <td>ใครเป็นผู้รับ</td>\n",
       "    </tr>\n",
       "    <tr>\n",
       "      <th>1</th>\n",
       "      <td>00245363f02e6f86a15de6793dc282d6f7095a8db6889b...</td>\n",
       "      <td>common_voice_th_31277118.mp3</td>\n",
       "      <td>รู้ได้ไงว่าเขาไม่หนุก</td>\n",
       "      <td>2</td>\n",
       "      <td>0</td>\n",
       "      <td>NaN</td>\n",
       "      <td>NaN</td>\n",
       "      <td>NaN</td>\n",
       "      <td>th</td>\n",
       "      <td>NaN</td>\n",
       "      <td>รู้ได้ไงว่าเขาไม่หนุก</td>\n",
       "    </tr>\n",
       "    <tr>\n",
       "      <th>2</th>\n",
       "      <td>005237750a4d82bf743fe1e6eb0e4a579f0eb6a2455aaf...</td>\n",
       "      <td>common_voice_th_25722081.mp3</td>\n",
       "      <td>การที่จะทำเค้กแต่งงานชั้นเลิศคุณจะต้องใช้น้ำตา...</td>\n",
       "      <td>3</td>\n",
       "      <td>0</td>\n",
       "      <td>NaN</td>\n",
       "      <td>NaN</td>\n",
       "      <td>NaN</td>\n",
       "      <td>th</td>\n",
       "      <td>NaN</td>\n",
       "      <td>การที่จะทำเค้กแต่งงานชั้นเลิศคุณจะต้องใช้น้ำตา...</td>\n",
       "    </tr>\n",
       "    <tr>\n",
       "      <th>3</th>\n",
       "      <td>00d8e38f434aecc821a4b83ca441d1e780de1e71cae734...</td>\n",
       "      <td>common_voice_th_25695038.mp3</td>\n",
       "      <td>ผู้ชายคือช้างเท้าหน้า แต่ผู้หญิงคือควาญช้าง</td>\n",
       "      <td>2</td>\n",
       "      <td>1</td>\n",
       "      <td>NaN</td>\n",
       "      <td>NaN</td>\n",
       "      <td>NaN</td>\n",
       "      <td>th</td>\n",
       "      <td>NaN</td>\n",
       "      <td>ผู้ชายคือช้างเท้าหน้า แต่ผู้หญิงคือควาญช้าง</td>\n",
       "    </tr>\n",
       "    <tr>\n",
       "      <th>4</th>\n",
       "      <td>00f387052dfafcbf01aff9ec022d9bf7822203ae4e37f6...</td>\n",
       "      <td>common_voice_th_25784745.mp3</td>\n",
       "      <td>มันช่วยให้ฉันจำได้</td>\n",
       "      <td>3</td>\n",
       "      <td>0</td>\n",
       "      <td>NaN</td>\n",
       "      <td>NaN</td>\n",
       "      <td>NaN</td>\n",
       "      <td>th</td>\n",
       "      <td>NaN</td>\n",
       "      <td>มันช่วยให้ฉันจำได้</td>\n",
       "    </tr>\n",
       "    <tr>\n",
       "      <th>...</th>\n",
       "      <td>...</td>\n",
       "      <td>...</td>\n",
       "      <td>...</td>\n",
       "      <td>...</td>\n",
       "      <td>...</td>\n",
       "      <td>...</td>\n",
       "      <td>...</td>\n",
       "      <td>...</td>\n",
       "      <td>...</td>\n",
       "      <td>...</td>\n",
       "      <td>...</td>\n",
       "    </tr>\n",
       "    <tr>\n",
       "      <th>125222</th>\n",
       "      <td>765ddb5b81ef7881ddadd9c2d01f0a368270cf136bb407...</td>\n",
       "      <td>common_voice_th_31394529.mp3</td>\n",
       "      <td>ทริปนี้มีประมาณ ห้าสิบ คน ต่างวัยกันไป</td>\n",
       "      <td>2</td>\n",
       "      <td>0</td>\n",
       "      <td>fifties</td>\n",
       "      <td>male</td>\n",
       "      <td>NaN</td>\n",
       "      <td>th</td>\n",
       "      <td>NaN</td>\n",
       "      <td>ทริปนี้มีประมาณ ห้าสิบ คน ต่างวัยกันไป</td>\n",
       "    </tr>\n",
       "    <tr>\n",
       "      <th>125223</th>\n",
       "      <td>765ddb5b81ef7881ddadd9c2d01f0a368270cf136bb407...</td>\n",
       "      <td>common_voice_th_31394598.mp3</td>\n",
       "      <td>ทั้งส่วนกลาง</td>\n",
       "      <td>2</td>\n",
       "      <td>0</td>\n",
       "      <td>fifties</td>\n",
       "      <td>male</td>\n",
       "      <td>NaN</td>\n",
       "      <td>th</td>\n",
       "      <td>NaN</td>\n",
       "      <td>ทั้งส่วนกลาง</td>\n",
       "    </tr>\n",
       "    <tr>\n",
       "      <th>125224</th>\n",
       "      <td>765ddb5b81ef7881ddadd9c2d01f0a368270cf136bb407...</td>\n",
       "      <td>common_voice_th_31394628.mp3</td>\n",
       "      <td>ตำรวจประกาศยกเลิกด่านจราจรทั่วประเทศ</td>\n",
       "      <td>2</td>\n",
       "      <td>0</td>\n",
       "      <td>fifties</td>\n",
       "      <td>male</td>\n",
       "      <td>NaN</td>\n",
       "      <td>th</td>\n",
       "      <td>NaN</td>\n",
       "      <td>ตำรวจประกาศยกเลิกด่านจราจรทั่วประเทศ</td>\n",
       "    </tr>\n",
       "    <tr>\n",
       "      <th>125225</th>\n",
       "      <td>765ddb5b81ef7881ddadd9c2d01f0a368270cf136bb407...</td>\n",
       "      <td>common_voice_th_31394699.mp3</td>\n",
       "      <td>ที่นักวิจัยคนอื่นสามารถนำไปต่อยอดได้</td>\n",
       "      <td>2</td>\n",
       "      <td>0</td>\n",
       "      <td>fifties</td>\n",
       "      <td>male</td>\n",
       "      <td>NaN</td>\n",
       "      <td>th</td>\n",
       "      <td>NaN</td>\n",
       "      <td>ที่นักวิจัยคนอื่นสามารถนำไปต่อยอดได้</td>\n",
       "    </tr>\n",
       "    <tr>\n",
       "      <th>125226</th>\n",
       "      <td>765ddb5b81ef7881ddadd9c2d01f0a368270cf136bb407...</td>\n",
       "      <td>common_voice_th_31394740.mp3</td>\n",
       "      <td>นวัตกรรมทีมหมอครอบครัว</td>\n",
       "      <td>2</td>\n",
       "      <td>0</td>\n",
       "      <td>fifties</td>\n",
       "      <td>male</td>\n",
       "      <td>NaN</td>\n",
       "      <td>th</td>\n",
       "      <td>NaN</td>\n",
       "      <td>นวัตกรรมทีมหมอครอบครัว</td>\n",
       "    </tr>\n",
       "  </tbody>\n",
       "</table>\n",
       "<p>125227 rows × 11 columns</p>\n",
       "</div>"
      ],
      "text/plain": [
       "                                                client_id  \\\n",
       "0       00086f5dc46f9038f13bbd829c4118fab3ac28688d5ee8...   \n",
       "1       00245363f02e6f86a15de6793dc282d6f7095a8db6889b...   \n",
       "2       005237750a4d82bf743fe1e6eb0e4a579f0eb6a2455aaf...   \n",
       "3       00d8e38f434aecc821a4b83ca441d1e780de1e71cae734...   \n",
       "4       00f387052dfafcbf01aff9ec022d9bf7822203ae4e37f6...   \n",
       "...                                                   ...   \n",
       "125222  765ddb5b81ef7881ddadd9c2d01f0a368270cf136bb407...   \n",
       "125223  765ddb5b81ef7881ddadd9c2d01f0a368270cf136bb407...   \n",
       "125224  765ddb5b81ef7881ddadd9c2d01f0a368270cf136bb407...   \n",
       "125225  765ddb5b81ef7881ddadd9c2d01f0a368270cf136bb407...   \n",
       "125226  765ddb5b81ef7881ddadd9c2d01f0a368270cf136bb407...   \n",
       "\n",
       "                                path  \\\n",
       "0       common_voice_th_25695281.mp3   \n",
       "1       common_voice_th_31277118.mp3   \n",
       "2       common_voice_th_25722081.mp3   \n",
       "3       common_voice_th_25695038.mp3   \n",
       "4       common_voice_th_25784745.mp3   \n",
       "...                              ...   \n",
       "125222  common_voice_th_31394529.mp3   \n",
       "125223  common_voice_th_31394598.mp3   \n",
       "125224  common_voice_th_31394628.mp3   \n",
       "125225  common_voice_th_31394699.mp3   \n",
       "125226  common_voice_th_31394740.mp3   \n",
       "\n",
       "                                                 sentence  up_votes  \\\n",
       "0                                           ใครเป็นผู้รับ         2   \n",
       "1                                   รู้ได้ไงว่าเขาไม่หนุก         2   \n",
       "2       การที่จะทำเค้กแต่งงานชั้นเลิศคุณจะต้องใช้น้ำตา...         3   \n",
       "3             ผู้ชายคือช้างเท้าหน้า แต่ผู้หญิงคือควาญช้าง         2   \n",
       "4                                      มันช่วยให้ฉันจำได้         3   \n",
       "...                                                   ...       ...   \n",
       "125222             ทริปนี้มีประมาณ ห้าสิบ คน ต่างวัยกันไป         2   \n",
       "125223                                       ทั้งส่วนกลาง         2   \n",
       "125224               ตำรวจประกาศยกเลิกด่านจราจรทั่วประเทศ         2   \n",
       "125225               ที่นักวิจัยคนอื่นสามารถนำไปต่อยอดได้         2   \n",
       "125226                             นวัตกรรมทีมหมอครอบครัว         2   \n",
       "\n",
       "        down_votes      age gender accents locale segment  \\\n",
       "0                0      NaN    NaN     NaN     th     NaN   \n",
       "1                0      NaN    NaN     NaN     th     NaN   \n",
       "2                0      NaN    NaN     NaN     th     NaN   \n",
       "3                1      NaN    NaN     NaN     th     NaN   \n",
       "4                0      NaN    NaN     NaN     th     NaN   \n",
       "...            ...      ...    ...     ...    ...     ...   \n",
       "125222           0  fifties   male     NaN     th     NaN   \n",
       "125223           0  fifties   male     NaN     th     NaN   \n",
       "125224           0  fifties   male     NaN     th     NaN   \n",
       "125225           0  fifties   male     NaN     th     NaN   \n",
       "125226           0  fifties   male     NaN     th     NaN   \n",
       "\n",
       "                                             sentence_fix  \n",
       "0                                           ใครเป็นผู้รับ  \n",
       "1                                   รู้ได้ไงว่าเขาไม่หนุก  \n",
       "2       การที่จะทำเค้กแต่งงานชั้นเลิศคุณจะต้องใช้น้ำตา...  \n",
       "3             ผู้ชายคือช้างเท้าหน้า แต่ผู้หญิงคือควาญช้าง  \n",
       "4                                      มันช่วยให้ฉันจำได้  \n",
       "...                                                   ...  \n",
       "125222             ทริปนี้มีประมาณ ห้าสิบ คน ต่างวัยกันไป  \n",
       "125223                                       ทั้งส่วนกลาง  \n",
       "125224               ตำรวจประกาศยกเลิกด่านจราจรทั่วประเทศ  \n",
       "125225               ที่นักวิจัยคนอื่นสามารถนำไปต่อยอดได้  \n",
       "125226                             นวัตกรรมทีมหมอครอบครัว  \n",
       "\n",
       "[125227 rows x 11 columns]"
      ]
     },
     "execution_count": 71,
     "metadata": {},
     "output_type": "execute_result"
    }
   ],
   "source": [
    "df"
   ]
  },
  {
   "cell_type": "code",
   "execution_count": 72,
   "id": "019e00d0",
   "metadata": {},
   "outputs": [],
   "source": [
    "df1 = df[df['sentence_fix'].notna()]"
   ]
  },
  {
   "cell_type": "code",
   "execution_count": 73,
   "id": "7679bbad",
   "metadata": {},
   "outputs": [
    {
     "data": {
      "text/html": [
       "<div>\n",
       "<style scoped>\n",
       "    .dataframe tbody tr th:only-of-type {\n",
       "        vertical-align: middle;\n",
       "    }\n",
       "\n",
       "    .dataframe tbody tr th {\n",
       "        vertical-align: top;\n",
       "    }\n",
       "\n",
       "    .dataframe thead th {\n",
       "        text-align: right;\n",
       "    }\n",
       "</style>\n",
       "<table border=\"1\" class=\"dataframe\">\n",
       "  <thead>\n",
       "    <tr style=\"text-align: right;\">\n",
       "      <th></th>\n",
       "      <th>client_id</th>\n",
       "      <th>path</th>\n",
       "      <th>sentence</th>\n",
       "      <th>up_votes</th>\n",
       "      <th>down_votes</th>\n",
       "      <th>age</th>\n",
       "      <th>gender</th>\n",
       "      <th>accents</th>\n",
       "      <th>locale</th>\n",
       "      <th>segment</th>\n",
       "      <th>sentence_fix</th>\n",
       "    </tr>\n",
       "  </thead>\n",
       "  <tbody>\n",
       "    <tr>\n",
       "      <th>0</th>\n",
       "      <td>00086f5dc46f9038f13bbd829c4118fab3ac28688d5ee8...</td>\n",
       "      <td>common_voice_th_25695281.mp3</td>\n",
       "      <td>ใครเป็นผู้รับ</td>\n",
       "      <td>2</td>\n",
       "      <td>0</td>\n",
       "      <td>NaN</td>\n",
       "      <td>NaN</td>\n",
       "      <td>NaN</td>\n",
       "      <td>th</td>\n",
       "      <td>NaN</td>\n",
       "      <td>ใครเป็นผู้รับ</td>\n",
       "    </tr>\n",
       "    <tr>\n",
       "      <th>1</th>\n",
       "      <td>00245363f02e6f86a15de6793dc282d6f7095a8db6889b...</td>\n",
       "      <td>common_voice_th_31277118.mp3</td>\n",
       "      <td>รู้ได้ไงว่าเขาไม่หนุก</td>\n",
       "      <td>2</td>\n",
       "      <td>0</td>\n",
       "      <td>NaN</td>\n",
       "      <td>NaN</td>\n",
       "      <td>NaN</td>\n",
       "      <td>th</td>\n",
       "      <td>NaN</td>\n",
       "      <td>รู้ได้ไงว่าเขาไม่หนุก</td>\n",
       "    </tr>\n",
       "    <tr>\n",
       "      <th>2</th>\n",
       "      <td>005237750a4d82bf743fe1e6eb0e4a579f0eb6a2455aaf...</td>\n",
       "      <td>common_voice_th_25722081.mp3</td>\n",
       "      <td>การที่จะทำเค้กแต่งงานชั้นเลิศคุณจะต้องใช้น้ำตา...</td>\n",
       "      <td>3</td>\n",
       "      <td>0</td>\n",
       "      <td>NaN</td>\n",
       "      <td>NaN</td>\n",
       "      <td>NaN</td>\n",
       "      <td>th</td>\n",
       "      <td>NaN</td>\n",
       "      <td>การที่จะทำเค้กแต่งงานชั้นเลิศคุณจะต้องใช้น้ำตา...</td>\n",
       "    </tr>\n",
       "    <tr>\n",
       "      <th>3</th>\n",
       "      <td>00d8e38f434aecc821a4b83ca441d1e780de1e71cae734...</td>\n",
       "      <td>common_voice_th_25695038.mp3</td>\n",
       "      <td>ผู้ชายคือช้างเท้าหน้า แต่ผู้หญิงคือควาญช้าง</td>\n",
       "      <td>2</td>\n",
       "      <td>1</td>\n",
       "      <td>NaN</td>\n",
       "      <td>NaN</td>\n",
       "      <td>NaN</td>\n",
       "      <td>th</td>\n",
       "      <td>NaN</td>\n",
       "      <td>ผู้ชายคือช้างเท้าหน้า แต่ผู้หญิงคือควาญช้าง</td>\n",
       "    </tr>\n",
       "    <tr>\n",
       "      <th>4</th>\n",
       "      <td>00f387052dfafcbf01aff9ec022d9bf7822203ae4e37f6...</td>\n",
       "      <td>common_voice_th_25784745.mp3</td>\n",
       "      <td>มันช่วยให้ฉันจำได้</td>\n",
       "      <td>3</td>\n",
       "      <td>0</td>\n",
       "      <td>NaN</td>\n",
       "      <td>NaN</td>\n",
       "      <td>NaN</td>\n",
       "      <td>th</td>\n",
       "      <td>NaN</td>\n",
       "      <td>มันช่วยให้ฉันจำได้</td>\n",
       "    </tr>\n",
       "    <tr>\n",
       "      <th>...</th>\n",
       "      <td>...</td>\n",
       "      <td>...</td>\n",
       "      <td>...</td>\n",
       "      <td>...</td>\n",
       "      <td>...</td>\n",
       "      <td>...</td>\n",
       "      <td>...</td>\n",
       "      <td>...</td>\n",
       "      <td>...</td>\n",
       "      <td>...</td>\n",
       "      <td>...</td>\n",
       "    </tr>\n",
       "    <tr>\n",
       "      <th>125222</th>\n",
       "      <td>765ddb5b81ef7881ddadd9c2d01f0a368270cf136bb407...</td>\n",
       "      <td>common_voice_th_31394529.mp3</td>\n",
       "      <td>ทริปนี้มีประมาณ ห้าสิบ คน ต่างวัยกันไป</td>\n",
       "      <td>2</td>\n",
       "      <td>0</td>\n",
       "      <td>fifties</td>\n",
       "      <td>male</td>\n",
       "      <td>NaN</td>\n",
       "      <td>th</td>\n",
       "      <td>NaN</td>\n",
       "      <td>ทริปนี้มีประมาณ ห้าสิบ คน ต่างวัยกันไป</td>\n",
       "    </tr>\n",
       "    <tr>\n",
       "      <th>125223</th>\n",
       "      <td>765ddb5b81ef7881ddadd9c2d01f0a368270cf136bb407...</td>\n",
       "      <td>common_voice_th_31394598.mp3</td>\n",
       "      <td>ทั้งส่วนกลาง</td>\n",
       "      <td>2</td>\n",
       "      <td>0</td>\n",
       "      <td>fifties</td>\n",
       "      <td>male</td>\n",
       "      <td>NaN</td>\n",
       "      <td>th</td>\n",
       "      <td>NaN</td>\n",
       "      <td>ทั้งส่วนกลาง</td>\n",
       "    </tr>\n",
       "    <tr>\n",
       "      <th>125224</th>\n",
       "      <td>765ddb5b81ef7881ddadd9c2d01f0a368270cf136bb407...</td>\n",
       "      <td>common_voice_th_31394628.mp3</td>\n",
       "      <td>ตำรวจประกาศยกเลิกด่านจราจรทั่วประเทศ</td>\n",
       "      <td>2</td>\n",
       "      <td>0</td>\n",
       "      <td>fifties</td>\n",
       "      <td>male</td>\n",
       "      <td>NaN</td>\n",
       "      <td>th</td>\n",
       "      <td>NaN</td>\n",
       "      <td>ตำรวจประกาศยกเลิกด่านจราจรทั่วประเทศ</td>\n",
       "    </tr>\n",
       "    <tr>\n",
       "      <th>125225</th>\n",
       "      <td>765ddb5b81ef7881ddadd9c2d01f0a368270cf136bb407...</td>\n",
       "      <td>common_voice_th_31394699.mp3</td>\n",
       "      <td>ที่นักวิจัยคนอื่นสามารถนำไปต่อยอดได้</td>\n",
       "      <td>2</td>\n",
       "      <td>0</td>\n",
       "      <td>fifties</td>\n",
       "      <td>male</td>\n",
       "      <td>NaN</td>\n",
       "      <td>th</td>\n",
       "      <td>NaN</td>\n",
       "      <td>ที่นักวิจัยคนอื่นสามารถนำไปต่อยอดได้</td>\n",
       "    </tr>\n",
       "    <tr>\n",
       "      <th>125226</th>\n",
       "      <td>765ddb5b81ef7881ddadd9c2d01f0a368270cf136bb407...</td>\n",
       "      <td>common_voice_th_31394740.mp3</td>\n",
       "      <td>นวัตกรรมทีมหมอครอบครัว</td>\n",
       "      <td>2</td>\n",
       "      <td>0</td>\n",
       "      <td>fifties</td>\n",
       "      <td>male</td>\n",
       "      <td>NaN</td>\n",
       "      <td>th</td>\n",
       "      <td>NaN</td>\n",
       "      <td>นวัตกรรมทีมหมอครอบครัว</td>\n",
       "    </tr>\n",
       "  </tbody>\n",
       "</table>\n",
       "<p>125224 rows × 11 columns</p>\n",
       "</div>"
      ],
      "text/plain": [
       "                                                client_id  \\\n",
       "0       00086f5dc46f9038f13bbd829c4118fab3ac28688d5ee8...   \n",
       "1       00245363f02e6f86a15de6793dc282d6f7095a8db6889b...   \n",
       "2       005237750a4d82bf743fe1e6eb0e4a579f0eb6a2455aaf...   \n",
       "3       00d8e38f434aecc821a4b83ca441d1e780de1e71cae734...   \n",
       "4       00f387052dfafcbf01aff9ec022d9bf7822203ae4e37f6...   \n",
       "...                                                   ...   \n",
       "125222  765ddb5b81ef7881ddadd9c2d01f0a368270cf136bb407...   \n",
       "125223  765ddb5b81ef7881ddadd9c2d01f0a368270cf136bb407...   \n",
       "125224  765ddb5b81ef7881ddadd9c2d01f0a368270cf136bb407...   \n",
       "125225  765ddb5b81ef7881ddadd9c2d01f0a368270cf136bb407...   \n",
       "125226  765ddb5b81ef7881ddadd9c2d01f0a368270cf136bb407...   \n",
       "\n",
       "                                path  \\\n",
       "0       common_voice_th_25695281.mp3   \n",
       "1       common_voice_th_31277118.mp3   \n",
       "2       common_voice_th_25722081.mp3   \n",
       "3       common_voice_th_25695038.mp3   \n",
       "4       common_voice_th_25784745.mp3   \n",
       "...                              ...   \n",
       "125222  common_voice_th_31394529.mp3   \n",
       "125223  common_voice_th_31394598.mp3   \n",
       "125224  common_voice_th_31394628.mp3   \n",
       "125225  common_voice_th_31394699.mp3   \n",
       "125226  common_voice_th_31394740.mp3   \n",
       "\n",
       "                                                 sentence  up_votes  \\\n",
       "0                                           ใครเป็นผู้รับ         2   \n",
       "1                                   รู้ได้ไงว่าเขาไม่หนุก         2   \n",
       "2       การที่จะทำเค้กแต่งงานชั้นเลิศคุณจะต้องใช้น้ำตา...         3   \n",
       "3             ผู้ชายคือช้างเท้าหน้า แต่ผู้หญิงคือควาญช้าง         2   \n",
       "4                                      มันช่วยให้ฉันจำได้         3   \n",
       "...                                                   ...       ...   \n",
       "125222             ทริปนี้มีประมาณ ห้าสิบ คน ต่างวัยกันไป         2   \n",
       "125223                                       ทั้งส่วนกลาง         2   \n",
       "125224               ตำรวจประกาศยกเลิกด่านจราจรทั่วประเทศ         2   \n",
       "125225               ที่นักวิจัยคนอื่นสามารถนำไปต่อยอดได้         2   \n",
       "125226                             นวัตกรรมทีมหมอครอบครัว         2   \n",
       "\n",
       "        down_votes      age gender accents locale segment  \\\n",
       "0                0      NaN    NaN     NaN     th     NaN   \n",
       "1                0      NaN    NaN     NaN     th     NaN   \n",
       "2                0      NaN    NaN     NaN     th     NaN   \n",
       "3                1      NaN    NaN     NaN     th     NaN   \n",
       "4                0      NaN    NaN     NaN     th     NaN   \n",
       "...            ...      ...    ...     ...    ...     ...   \n",
       "125222           0  fifties   male     NaN     th     NaN   \n",
       "125223           0  fifties   male     NaN     th     NaN   \n",
       "125224           0  fifties   male     NaN     th     NaN   \n",
       "125225           0  fifties   male     NaN     th     NaN   \n",
       "125226           0  fifties   male     NaN     th     NaN   \n",
       "\n",
       "                                             sentence_fix  \n",
       "0                                           ใครเป็นผู้รับ  \n",
       "1                                   รู้ได้ไงว่าเขาไม่หนุก  \n",
       "2       การที่จะทำเค้กแต่งงานชั้นเลิศคุณจะต้องใช้น้ำตา...  \n",
       "3             ผู้ชายคือช้างเท้าหน้า แต่ผู้หญิงคือควาญช้าง  \n",
       "4                                      มันช่วยให้ฉันจำได้  \n",
       "...                                                   ...  \n",
       "125222             ทริปนี้มีประมาณ ห้าสิบ คน ต่างวัยกันไป  \n",
       "125223                                       ทั้งส่วนกลาง  \n",
       "125224               ตำรวจประกาศยกเลิกด่านจราจรทั่วประเทศ  \n",
       "125225               ที่นักวิจัยคนอื่นสามารถนำไปต่อยอดได้  \n",
       "125226                             นวัตกรรมทีมหมอครอบครัว  \n",
       "\n",
       "[125224 rows x 11 columns]"
      ]
     },
     "execution_count": 73,
     "metadata": {},
     "output_type": "execute_result"
    }
   ],
   "source": [
    "df1"
   ]
  },
  {
   "cell_type": "code",
   "execution_count": 74,
   "id": "6d589d00",
   "metadata": {},
   "outputs": [],
   "source": [
    "df1.to_csv(os.path.join(cv_path,\"validated_clean.tsv\"), sep=\"\\t\", index=False)"
   ]
  },
  {
   "cell_type": "code",
   "execution_count": null,
   "id": "33976664",
   "metadata": {},
   "outputs": [],
   "source": []
  }
 ],
 "metadata": {
  "kernelspec": {
   "display_name": "Python 3 (ipykernel)",
   "language": "python",
   "name": "python3"
  },
  "language_info": {
   "codemirror_mode": {
    "name": "ipython",
    "version": 3
   },
   "file_extension": ".py",
   "mimetype": "text/x-python",
   "name": "python",
   "nbconvert_exporter": "python",
   "pygments_lexer": "ipython3",
   "version": "3.8.12"
  }
 },
 "nbformat": 4,
 "nbformat_minor": 5
}
