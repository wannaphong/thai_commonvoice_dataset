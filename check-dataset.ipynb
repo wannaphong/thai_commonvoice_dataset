{
 "cells": [
  {
   "cell_type": "markdown",
   "metadata": {},
   "source": [
    "# Check dataset\n",
    "\n",
    "This file is checker for datasets."
   ]
  },
  {
   "cell_type": "code",
   "execution_count": 15,
   "metadata": {},
   "outputs": [],
   "source": [
    "import random\n",
    "import pandas as pd\n",
    "import json\n",
    "import os"
   ]
  },
  {
   "cell_type": "code",
   "execution_count": 16,
   "metadata": {},
   "outputs": [],
   "source": [
    "path_start = \".\"\n",
    "now = os.path.join(path_start,\"v8\")"
   ]
  },
  {
   "cell_type": "code",
   "execution_count": 17,
   "metadata": {},
   "outputs": [],
   "source": [
    "path_to_dataset = os.path.join(now,'validated_clean.tsv')"
   ]
  },
  {
   "cell_type": "code",
   "execution_count": 18,
   "metadata": {},
   "outputs": [],
   "source": [
    "path_train = os.path.join(now,'train.tsv')\n",
    "path_test_uniq = os.path.join(now,'test_uniq.tsv')\n",
    "path_dev_uniq = os.path.join(now,'dev_uniq.tsv')\n",
    "path_test = os.path.join(now,'test.tsv')\n",
    "path_dev = os.path.join(now,'dev.tsv')"
   ]
  },
  {
   "cell_type": "code",
   "execution_count": 19,
   "metadata": {},
   "outputs": [],
   "source": [
    "#val_df = pd.read_csv(path_to_dataset,sep=\"\\t\")\n",
    "train_df = pd.read_csv(path_train,sep=\"\\t\")\n",
    "test_uniq_df = pd.read_csv(path_test_uniq,sep=\"\\t\")\n",
    "dev_uniq_df = pd.read_csv(path_dev_uniq,sep=\"\\t\")\n",
    "test_df = pd.read_csv(path_test,sep=\"\\t\")\n",
    "dev_df = pd.read_csv(path_dev,sep=\"\\t\")"
   ]
  },
  {
   "cell_type": "code",
   "execution_count": 20,
   "metadata": {},
   "outputs": [],
   "source": [
    "def check_rows(path,col=[\"path\"]):\n",
    "    df = pd.read_csv(path,sep=\"\\t\")\n",
    "    print(df.info())\n",
    "    df=df.drop_duplicates(subset=col)\n",
    "    print(df.info())"
   ]
  },
  {
   "cell_type": "code",
   "execution_count": 21,
   "metadata": {},
   "outputs": [
    {
     "name": "stdout",
     "output_type": "stream",
     "text": [
      "<class 'pandas.core.frame.DataFrame'>\n",
      "RangeIndex: 4384 entries, 0 to 4383\n",
      "Data columns (total 11 columns):\n",
      " #   Column        Non-Null Count  Dtype  \n",
      "---  ------        --------------  -----  \n",
      " 0   client_id     4384 non-null   object \n",
      " 1   path          4384 non-null   object \n",
      " 2   sentence      4384 non-null   object \n",
      " 3   up_votes      4384 non-null   int64  \n",
      " 4   down_votes    4384 non-null   int64  \n",
      " 5   age           3131 non-null   object \n",
      " 6   gender        3131 non-null   object \n",
      " 7   accents       0 non-null      float64\n",
      " 8   locale        4384 non-null   object \n",
      " 9   segment       1 non-null      object \n",
      " 10  sentence_fix  4384 non-null   object \n",
      "dtypes: float64(1), int64(2), object(8)\n",
      "memory usage: 376.9+ KB\n",
      "None\n",
      "<class 'pandas.core.frame.DataFrame'>\n",
      "Int64Index: 4384 entries, 0 to 4383\n",
      "Data columns (total 11 columns):\n",
      " #   Column        Non-Null Count  Dtype  \n",
      "---  ------        --------------  -----  \n",
      " 0   client_id     4384 non-null   object \n",
      " 1   path          4384 non-null   object \n",
      " 2   sentence      4384 non-null   object \n",
      " 3   up_votes      4384 non-null   int64  \n",
      " 4   down_votes    4384 non-null   int64  \n",
      " 5   age           3131 non-null   object \n",
      " 6   gender        3131 non-null   object \n",
      " 7   accents       0 non-null      float64\n",
      " 8   locale        4384 non-null   object \n",
      " 9   segment       1 non-null      object \n",
      " 10  sentence_fix  4384 non-null   object \n",
      "dtypes: float64(1), int64(2), object(8)\n",
      "memory usage: 411.0+ KB\n",
      "None\n"
     ]
    }
   ],
   "source": [
    "check_rows(path_test_uniq)"
   ]
  },
  {
   "cell_type": "code",
   "execution_count": 22,
   "metadata": {},
   "outputs": [
    {
     "name": "stdout",
     "output_type": "stream",
     "text": [
      "<class 'pandas.core.frame.DataFrame'>\n",
      "RangeIndex: 4619 entries, 0 to 4618\n",
      "Data columns (total 11 columns):\n",
      " #   Column        Non-Null Count  Dtype  \n",
      "---  ------        --------------  -----  \n",
      " 0   client_id     4619 non-null   object \n",
      " 1   path          4619 non-null   object \n",
      " 2   sentence      4619 non-null   object \n",
      " 3   up_votes      4619 non-null   int64  \n",
      " 4   down_votes    4619 non-null   int64  \n",
      " 5   age           3873 non-null   object \n",
      " 6   gender        3873 non-null   object \n",
      " 7   accents       0 non-null      float64\n",
      " 8   locale        4619 non-null   object \n",
      " 9   segment       5 non-null      object \n",
      " 10  sentence_fix  4619 non-null   object \n",
      "dtypes: float64(1), int64(2), object(8)\n",
      "memory usage: 397.1+ KB\n",
      "None\n",
      "<class 'pandas.core.frame.DataFrame'>\n",
      "Int64Index: 4619 entries, 0 to 4618\n",
      "Data columns (total 11 columns):\n",
      " #   Column        Non-Null Count  Dtype  \n",
      "---  ------        --------------  -----  \n",
      " 0   client_id     4619 non-null   object \n",
      " 1   path          4619 non-null   object \n",
      " 2   sentence      4619 non-null   object \n",
      " 3   up_votes      4619 non-null   int64  \n",
      " 4   down_votes    4619 non-null   int64  \n",
      " 5   age           3873 non-null   object \n",
      " 6   gender        3873 non-null   object \n",
      " 7   accents       0 non-null      float64\n",
      " 8   locale        4619 non-null   object \n",
      " 9   segment       5 non-null      object \n",
      " 10  sentence_fix  4619 non-null   object \n",
      "dtypes: float64(1), int64(2), object(8)\n",
      "memory usage: 433.0+ KB\n",
      "None\n"
     ]
    }
   ],
   "source": [
    "check_rows(path_dev_uniq)"
   ]
  },
  {
   "cell_type": "code",
   "execution_count": 24,
   "metadata": {},
   "outputs": [
    {
     "name": "stdout",
     "output_type": "stream",
     "text": [
      "<class 'pandas.core.frame.DataFrame'>\n",
      "RangeIndex: 96237 entries, 0 to 96236\n",
      "Data columns (total 11 columns):\n",
      " #   Column        Non-Null Count  Dtype  \n",
      "---  ------        --------------  -----  \n",
      " 0   client_id     96237 non-null  object \n",
      " 1   path          96237 non-null  object \n",
      " 2   sentence      96237 non-null  object \n",
      " 3   up_votes      96237 non-null  int64  \n",
      " 4   down_votes    96237 non-null  int64  \n",
      " 5   age           58217 non-null  object \n",
      " 6   gender        58273 non-null  object \n",
      " 7   accents       0 non-null      float64\n",
      " 8   locale        96237 non-null  object \n",
      " 9   segment       12 non-null     object \n",
      " 10  sentence_fix  96237 non-null  object \n",
      "dtypes: float64(1), int64(2), object(8)\n",
      "memory usage: 8.1+ MB\n",
      "None\n",
      "<class 'pandas.core.frame.DataFrame'>\n",
      "Int64Index: 96237 entries, 0 to 96236\n",
      "Data columns (total 11 columns):\n",
      " #   Column        Non-Null Count  Dtype  \n",
      "---  ------        --------------  -----  \n",
      " 0   client_id     96237 non-null  object \n",
      " 1   path          96237 non-null  object \n",
      " 2   sentence      96237 non-null  object \n",
      " 3   up_votes      96237 non-null  int64  \n",
      " 4   down_votes    96237 non-null  int64  \n",
      " 5   age           58217 non-null  object \n",
      " 6   gender        58273 non-null  object \n",
      " 7   accents       0 non-null      float64\n",
      " 8   locale        96237 non-null  object \n",
      " 9   segment       12 non-null     object \n",
      " 10  sentence_fix  96237 non-null  object \n",
      "dtypes: float64(1), int64(2), object(8)\n",
      "memory usage: 8.8+ MB\n",
      "None\n"
     ]
    }
   ],
   "source": [
    "check_rows(path_train)"
   ]
  },
  {
   "cell_type": "code",
   "execution_count": null,
   "metadata": {},
   "outputs": [],
   "source": []
  }
 ],
 "metadata": {
  "kernelspec": {
   "display_name": "Python 3",
   "language": "python",
   "name": "python3"
  },
  "language_info": {
   "codemirror_mode": {
    "name": "ipython",
    "version": 3
   },
   "file_extension": ".py",
   "mimetype": "text/x-python",
   "name": "python",
   "nbconvert_exporter": "python",
   "pygments_lexer": "ipython3",
   "version": "3.8.5"
  }
 },
 "nbformat": 4,
 "nbformat_minor": 4
}
